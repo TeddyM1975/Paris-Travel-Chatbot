{
  "nbformat": 4,
  "nbformat_minor": 0,
  "metadata": {
    "colab": {
      "provenance": [],
      "gpuType": "T4"
    },
    "kernelspec": {
      "name": "python3",
      "display_name": "Python 3"
    },
    "language_info": {
      "name": "python"
    },
    "accelerator": "GPU"
  },
  "cells": [
    {
      "cell_type": "code",
      "source": [
        "from transformers import AutoModelForCausalLM, AutoTokenizer, pipeline\n",
        "import torch\n",
        "\n",
        "# Load a chat/instruction-following model\n",
        "model_name = \"mistralai/Mistral-7B-Instruct-v0.1\"\n",
        "tokenizer = AutoTokenizer.from_pretrained(model_name)\n",
        "model = AutoModelForCausalLM.from_pretrained(model_name, torch_dtype=torch.float16, device_map=\"auto\")\n",
        "\n",
        "chat = pipeline(\"text-generation\", model=model, tokenizer=tokenizer)\n"
      ],
      "metadata": {
        "colab": {
          "base_uri": "https://localhost:8080/",
          "height": 405,
          "referenced_widgets": [
            "d245fa13335242ea86c658091e60e807",
            "134eb0caa3c845498ce982f60b02ccb2",
            "ebf162ad6f604ec9ad1f8589946b03e4",
            "33af8710c0fc4bfaa776319dc312c1cd",
            "e4aa4773b7ee4e28bd8eacf954da06f0",
            "c04321fa0d7147cfbc529fc193bb4542",
            "fd1073a8df674796a23499c0929081c5",
            "8c06b5e9c51246d290517c81d0bc9dc8",
            "91a4739937064baf81058926f585b613",
            "da489b4f99c644feb387cf34a878cb14",
            "a6cce6cb120d4f9598ffab685c500c08",
            "fd13408e9cf54a47800785bd1d767778",
            "8141ecff09f54c959d878f7848ecc705",
            "48053db65e8a4cef9eb0de2c97fd96d7",
            "b7ba6accc6d546b691d992af15366c27",
            "5f4b6adf8ba149148865fe9205fbc82c",
            "94daf173ec09451f99afb3a7472bfb61",
            "8186ad4acdb44d4882d1b1465272eb61",
            "bf0168e957804dc0a265f125f419102a",
            "0c662f2239504074963298f16d745120",
            "3a1d9ad87a814a8cbfd2b02aea485d73",
            "17fbeb9f41af4ceabbe6c12e6a395045",
            "9290beed1bf441bb8d511dc7d52fddc7",
            "28e41fce9ca7408fab1e7f579608952e",
            "daa7a851492a44d694ec96892bbc3904",
            "99666fb6601b48cbb4bc5bbda48fe9c7",
            "1f86e3d4f42143c18f012aa9959f5965",
            "8e31773bb9e44a49be28878d4203400a",
            "2a1a918673bd4bfc82732fa625402e37",
            "6a55385241fd4a2ba013434886e6fcbd",
            "64394c2c861a4bafae60c72658df64bf",
            "98d8708ce6824960bbc5fb36f4ba6cf6",
            "c38a668d61cd4ecfb6bda361e44ecc94",
            "c0e8ff8f76134038a029cc545ae052cf",
            "a4123524decb4b9ea349fcc91378cf83",
            "b1f9c32384e240359d82844bf5657d46",
            "6e629475472b44df9f888b8f03f6bf66",
            "1f48c850b7b04aa1988bfaaacbfdfdd5",
            "7c9239900b3343d49ba77e372ca61ce5",
            "4dd5ebbf89ea4fc4b841d555f63c28d2",
            "4de842bffe1d424eb276f22903591006",
            "d075afce3d0c48cd9b5cdc6c0c7df745",
            "efed65b356ab440aabcc9e5794c2c3f1",
            "788ec458ca6946d489feb3b964af0fdf",
            "376fa4be362e4ff5b6104daac4c29f48",
            "192f98ec0ae348798b0589c26ed19052",
            "dac336a438b84942a6927e9a2e0794e3",
            "4352549677954151ac592fd7e1ff8e9a",
            "b748d0ace4e2455eb22f5b487e562fa7",
            "c6f3664f8ebc43cc855db927b27f744b",
            "8d1d9d7c15bd4c0dbf754edc63f7a377",
            "568733b957904d438731c0b53c3eacc2",
            "f5f59642a50642ef8a5584fb83aca7fe",
            "84bf1abb49814d5982b2b1a3e60aa6a6",
            "1997ce3a1f794e6a94f2dd6edf73e3ac",
            "d087d61736344dbba051eadf3c50c423",
            "a441cb97bf324693b794176ca8ccd9eb",
            "201b25765ead42a7852a3584261420a8",
            "d2426f0991464d828e81a4f8e36a7135",
            "bb742bdf53a24b3fbbd18851a1ccc371",
            "1d93d46f4ec248549a862d7eeb257347",
            "206ab394d52d41c0b59d0b543794c995",
            "cfee0da0e1954feba82e57f72920c97a",
            "fd523b62c80e4eab803dc9d0517b5d28",
            "b1f012344e1b4d4e9d7e9764d76d4b64",
            "3ae79deee69a42ab89f6aa0704f443e9",
            "bc3edbd84a0a4296b52cfaa7e5d84604",
            "f0d1fd1b8747485e8fdd8ddd502925a7",
            "e72023b72cc8482ba3ae47258f540bdf",
            "56cfa0e616304300a5a17e9ce1094a60",
            "09e9fdbdbf3948eb83b1cb2fb9f3526c",
            "e7b602e9a2404a25b491010fa23d2524",
            "79b8e8a827d14eba90976e788a92d867",
            "5094f8d6cb7547149568a8775bca6426",
            "53a23609fcb04b17883ea75efea98b7b",
            "5f17d7a27a064ce1a63612856b7183af",
            "d40dfc9851ba430c99ddb1507ac718b3",
            "450af6d3a77a44b68c2b0546e61d0f77",
            "be3aad6ce23f4c3e8b18702125f1e2fd",
            "f4d34bcf41e84947916d6cb74f8da594",
            "d5aae8dc9ea3447d80d6cca175649be8",
            "f52fe465dbe144ae91d62807d39cf788",
            "6dc4b918aa55433aa81120b880094a8f",
            "8638a0f19a4d4ea5b75eef02f7f8a751",
            "3cd0986cc2844776ab7a500a18f50aad",
            "3e1a5f304f1a4c81bfa9b64d3abed908",
            "4f5369ab224b400fa55e7b344e0329c0",
            "bfd3ba0271c44c728dd92a78f4fd6da9",
            "c7e3ed1b1ae64f7fa07c812e0bd2ee0f",
            "3e5e68dce6824136acd82e54893602f7",
            "1dc402c125de4db8b2239ff47bef3004",
            "528bd6ad39174067bff1095d3d97c290",
            "cf427f2667d64f5587bfe98f3fd4b964",
            "7c4ca06eb6894fddb2b7ea37acc75cc5",
            "dfe865f6a99641b3be5f52a04a8ae8bc",
            "f646f715ff544ac49a6973cf6bdace64",
            "f759f1190a894243abd093422ab7cc67",
            "9a60f578b30640989af68ec89d7e909b",
            "16d8bbfebaf94634a57361fa67e59334",
            "c2f78ad8f2644766aa68b08cfccc966c",
            "8c22bd4b785d40e1ae7282682fa05114",
            "ed9f80f92cea469dac885711e4ae7436",
            "737177f9e7a84ee98e7d606540e3e02c",
            "978a44e932654318be630136af27b745",
            "0c18a1b0c49a41fa940e353fbd3216dd",
            "4813fc18107e4f55b146e3ed96dd6727",
            "b65bddda54844beb9443306a640fedb7",
            "ce3e4aa903ee4c9c948fb0a0b0c1ef35",
            "19f2fd0427384d33bbadae8da1e66599",
            "2cd5ba592a2a4dd992d1ca27f8520271",
            "78901319dd6240938b107a57866aa656",
            "bcc9e8d185c64f32b8c0d51bfe046fc0",
            "d4e58d9b89e7493d985fc383883930d3",
            "0e7defc7cd9f481ea5e52ea435e7fe50",
            "1bfed5872a8d422fb36e9de2076d4f46",
            "738cbe17413c491cb6be86a61d272c4d",
            "44de51143c2b44a7a34b02f9a685e0da",
            "59e8db6089424e008ad4a8100d77d065",
            "840e7206e66b40ad8baaa567c3ff0685",
            "872a21be6caf4d8197c2cf9d5344ddc5",
            "948ffe0cf9c346b396584c1ac93826b7"
          ]
        },
        "id": "ZdC5EiwtZejN",
        "outputId": "5be6eb10-e4b6-4dcc-ee8d-6fbbf9b280fe"
      },
      "execution_count": 1,
      "outputs": [
        {
          "output_type": "display_data",
          "data": {
            "text/plain": [
              "tokenizer_config.json:   0%|          | 0.00/2.10k [00:00<?, ?B/s]"
            ],
            "application/vnd.jupyter.widget-view+json": {
              "version_major": 2,
              "version_minor": 0,
              "model_id": "d245fa13335242ea86c658091e60e807"
            }
          },
          "metadata": {}
        },
        {
          "output_type": "display_data",
          "data": {
            "text/plain": [
              "tokenizer.model:   0%|          | 0.00/493k [00:00<?, ?B/s]"
            ],
            "application/vnd.jupyter.widget-view+json": {
              "version_major": 2,
              "version_minor": 0,
              "model_id": "fd13408e9cf54a47800785bd1d767778"
            }
          },
          "metadata": {}
        },
        {
          "output_type": "display_data",
          "data": {
            "text/plain": [
              "tokenizer.json:   0%|          | 0.00/1.80M [00:00<?, ?B/s]"
            ],
            "application/vnd.jupyter.widget-view+json": {
              "version_major": 2,
              "version_minor": 0,
              "model_id": "9290beed1bf441bb8d511dc7d52fddc7"
            }
          },
          "metadata": {}
        },
        {
          "output_type": "display_data",
          "data": {
            "text/plain": [
              "special_tokens_map.json:   0%|          | 0.00/414 [00:00<?, ?B/s]"
            ],
            "application/vnd.jupyter.widget-view+json": {
              "version_major": 2,
              "version_minor": 0,
              "model_id": "c0e8ff8f76134038a029cc545ae052cf"
            }
          },
          "metadata": {}
        },
        {
          "output_type": "display_data",
          "data": {
            "text/plain": [
              "config.json:   0%|          | 0.00/571 [00:00<?, ?B/s]"
            ],
            "application/vnd.jupyter.widget-view+json": {
              "version_major": 2,
              "version_minor": 0,
              "model_id": "376fa4be362e4ff5b6104daac4c29f48"
            }
          },
          "metadata": {}
        },
        {
          "output_type": "display_data",
          "data": {
            "text/plain": [
              "model.safetensors.index.json:   0%|          | 0.00/25.1k [00:00<?, ?B/s]"
            ],
            "application/vnd.jupyter.widget-view+json": {
              "version_major": 2,
              "version_minor": 0,
              "model_id": "d087d61736344dbba051eadf3c50c423"
            }
          },
          "metadata": {}
        },
        {
          "output_type": "display_data",
          "data": {
            "text/plain": [
              "Fetching 2 files:   0%|          | 0/2 [00:00<?, ?it/s]"
            ],
            "application/vnd.jupyter.widget-view+json": {
              "version_major": 2,
              "version_minor": 0,
              "model_id": "bc3edbd84a0a4296b52cfaa7e5d84604"
            }
          },
          "metadata": {}
        },
        {
          "output_type": "display_data",
          "data": {
            "text/plain": [
              "model-00001-of-00002.safetensors:   0%|          | 0.00/9.94G [00:00<?, ?B/s]"
            ],
            "application/vnd.jupyter.widget-view+json": {
              "version_major": 2,
              "version_minor": 0,
              "model_id": "450af6d3a77a44b68c2b0546e61d0f77"
            }
          },
          "metadata": {}
        },
        {
          "output_type": "display_data",
          "data": {
            "text/plain": [
              "model-00002-of-00002.safetensors:   0%|          | 0.00/4.54G [00:00<?, ?B/s]"
            ],
            "application/vnd.jupyter.widget-view+json": {
              "version_major": 2,
              "version_minor": 0,
              "model_id": "c7e3ed1b1ae64f7fa07c812e0bd2ee0f"
            }
          },
          "metadata": {}
        },
        {
          "output_type": "display_data",
          "data": {
            "text/plain": [
              "Loading checkpoint shards:   0%|          | 0/2 [00:00<?, ?it/s]"
            ],
            "application/vnd.jupyter.widget-view+json": {
              "version_major": 2,
              "version_minor": 0,
              "model_id": "c2f78ad8f2644766aa68b08cfccc966c"
            }
          },
          "metadata": {}
        },
        {
          "output_type": "display_data",
          "data": {
            "text/plain": [
              "generation_config.json:   0%|          | 0.00/116 [00:00<?, ?B/s]"
            ],
            "application/vnd.jupyter.widget-view+json": {
              "version_major": 2,
              "version_minor": 0,
              "model_id": "78901319dd6240938b107a57866aa656"
            }
          },
          "metadata": {}
        },
        {
          "output_type": "stream",
          "name": "stderr",
          "text": [
            "WARNING:accelerate.big_modeling:Some parameters are on the meta device because they were offloaded to the cpu.\n",
            "Device set to use cuda:0\n"
          ]
        }
      ]
    },
    {
      "cell_type": "code",
      "source": [
        "chat = pipeline(\"text-generation\", model=model, tokenizer=tokenizer, pad_token_id=tokenizer.eos_token_id)"
      ],
      "metadata": {
        "colab": {
          "base_uri": "https://localhost:8080/"
        },
        "id": "aGhHKz8WfunJ",
        "outputId": "f9b7d203-4875-42d6-a616-6717aa8251ef"
      },
      "execution_count": 5,
      "outputs": [
        {
          "output_type": "stream",
          "name": "stderr",
          "text": [
            "Device set to use cuda:0\n"
          ]
        }
      ]
    },
    {
      "cell_type": "code",
      "source": [
        "\n",
        "# Define the conversation\n",
        "conversation = [{\"role\": \"system\", \"content\": \"You are a friendly Paris travel guide that delivers valuable insights into the city's iconic landmarks and hidden treasures, significantly enhancing the exploration of Paris.\"}]\n",
        "\n",
        "user_questions = [\n",
        "    \"How far away is the Louvre from the Eiffel Tower (in miles) if you are driving?\",\n",
        "    \"Where is the Arc de Triomphe?\",\n",
        "    \"What are the must-see artworks at the Louvre Museum?\"\n",
        "]\n",
        "\n",
        "for question in user_questions:\n",
        "    print(\"User:\", question)\n",
        "    conversation.append({\"role\": \"user\", \"content\": question})\n",
        "\n",
        "    # Construct a short prompt: system + latest question\n",
        "    system_prompt = conversation[0][\"content\"]\n",
        "    prompt = f\"System: {system_prompt}\\nUser: {question}\\nAssistant:\"\n",
        "\n",
        "    # Generate response\n",
        "    output = chat(prompt, max_new_tokens=100)[0][\"generated_text\"]\n",
        "\n",
        "    # Extract just the assistant's answer\n",
        "    if \"Assistant:\" in output:\n",
        "        response_text = output.split(\"Assistant:\")[-1].strip()\n",
        "    else:\n",
        "        response_text = output.strip()\n",
        "\n",
        "    print(\"Assistant:\", response_text)\n",
        "    conversation.append({\"role\": \"assistant\", \"content\": response_text})\n"
      ],
      "metadata": {
        "colab": {
          "base_uri": "https://localhost:8080/"
        },
        "id": "kXVqfZPWe-ro",
        "outputId": "66dc5e5b-071b-4adc-c306-a1664bd0269b"
      },
      "execution_count": 23,
      "outputs": [
        {
          "output_type": "stream",
          "name": "stdout",
          "text": [
            "User: How far away is the Louvre from the Eiffel Tower (in miles) if you are driving?\n",
            "Assistant: The Louvre is approximately 7.5 miles away from the Eiffel Tower if you are driving. However, it's important to note that traffic in Paris can be unpredictable, so it's always a good idea to allow extra time for your journey.\n",
            "User: Where is the Arc de Triomphe?\n",
            "Assistant: The Arc de Triomphe is located in the Champs-Élysées, one of the most famous avenues in Paris. It's a magnificent monument dedicated to the soldiers who fought and died for France. You can easily find it by taking the metro line 1 or 9 and getting off at the Arc de Triomphe station.\n",
            "User: What are the must-see artworks at the Louvre Museum?\n",
            "Assistant: The Louvre Museum is home to countless masterpieces, but some of the must-see artworks include the Mona Lisa, the Winged Victory of Samothrace, the Venus de Milo, and the Liberty Leading the People. It's also worth exploring the Egyptian and Greek antiquities collections, as well as the Islamic art collection. Don't forget to take your time and appreciate the beauty of each artwork.\n"
          ]
        }
      ]
    },
    {
      "cell_type": "code",
      "source": [],
      "metadata": {
        "id": "gsBeeJb3hCos"
      },
      "execution_count": null,
      "outputs": []
    }
  ]
}